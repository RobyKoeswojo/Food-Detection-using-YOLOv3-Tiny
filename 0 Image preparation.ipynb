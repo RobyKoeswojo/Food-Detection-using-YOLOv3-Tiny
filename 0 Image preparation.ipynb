{
 "cells": [
  {
   "cell_type": "markdown",
   "id": "6b9d680e",
   "metadata": {},
   "source": [
    "# Image preparation"
   ]
  },
  {
   "cell_type": "markdown",
   "id": "5120cd75",
   "metadata": {},
   "source": [
    "The objects (food) to be detected are: ``Hotdog``, ``Hamburger`` and ``Pizza``  \n",
    "\n",
    "The images for ``Hotdog`` and ``Hamburger`` are from Food-101 dataset available here: https://www.kaggle.com/kmader/food41,  \n",
    "whereas the images for ``Pizza`` are from Caltech-101 dataset available here: http://www.vision.caltech.edu/Image_Datasets/Caltech101/  \n",
    "\n",
    "In this project, only first 50 images from each class folder are taken as the training set.  \n",
    "This results a total of 150 images (50 images for each object)"
   ]
  },
  {
   "cell_type": "markdown",
   "id": "2d418a68",
   "metadata": {},
   "source": [
    "## Renaming images  \n",
    "This step is to rename all images that are put in separated folders"
   ]
  },
  {
   "cell_type": "code",
   "execution_count": null,
   "id": "614df109",
   "metadata": {},
   "outputs": [],
   "source": [
    "import os\n",
    "import cv2\n",
    "import glob\n",
    "import numpy as np\n",
    "import matplotlib.pyplot as plt\n",
    "%matplotlib inline"
   ]
  },
  {
   "cell_type": "code",
   "execution_count": null,
   "id": "7b533f28",
   "metadata": {},
   "outputs": [],
   "source": [
    "labels = [\"Hotdog\", \"Hamburger\", \"Pizza\"]\n",
    "\n",
    "for label in labels:\n",
    "    images_dir = os.path.sep.join([\"dataset\", label])\n",
    "    images_path = glob.glob(images_dir + \"/*.jpg\")\n",
    "    \n",
    "    for i, ip in enumerate(images_path):\n",
    "        new_filename = os.path.sep.join([images_dir, \"{}{:02d}.jpg\".format(label, i + 1)])\n",
    "        os.rename(ip, new_filename)"
   ]
  },
  {
   "cell_type": "markdown",
   "id": "58d9de33",
   "metadata": {},
   "source": [
    "## Labeling images  \n",
    "The annotation (ground truth bounding box) of the training images are made by using the ``labelImg`` available here: https://github.com/tzutalin/labelImg/releases/tag/v1.8.0  \n",
    "For the annotation format, use **YOLO** type."
   ]
  },
  {
   "cell_type": "code",
   "execution_count": null,
   "id": "0ab97ff8",
   "metadata": {},
   "outputs": [],
   "source": []
  }
 ],
 "metadata": {
  "kernelspec": {
   "display_name": "Python 3",
   "language": "python",
   "name": "python3"
  },
  "language_info": {
   "codemirror_mode": {
    "name": "ipython",
    "version": 3
   },
   "file_extension": ".py",
   "mimetype": "text/x-python",
   "name": "python",
   "nbconvert_exporter": "python",
   "pygments_lexer": "ipython3",
   "version": "3.6.8"
  }
 },
 "nbformat": 4,
 "nbformat_minor": 5
}
